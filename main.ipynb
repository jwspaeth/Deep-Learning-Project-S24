{
 "cells": [
  {
   "cell_type": "code",
   "execution_count": null,
   "metadata": {},
   "outputs": [],
   "source": [
    "%load_ext autoreload\n",
    "%autoreload 2"
   ]
  },
  {
   "cell_type": "code",
   "execution_count": null,
   "metadata": {},
   "outputs": [],
   "source": [
    "import os\n",
    "\n",
    "# project_path = \"./\"\n",
    "project_path = \"/content/drive/MyDrive/GT/Deep-Learning-Project-S24\""
   ]
  },
  {
   "cell_type": "code",
   "execution_count": null,
   "metadata": {},
   "outputs": [],
   "source": [
    "### mount Google Drive\n",
    "from google.colab import drive\n",
    "\n",
    "mount_path = '/content/drive'\n",
    "drive.mount(mount_path)\n",
    "os.chdir(project_path)\n",
    "!pip install -e ."
   ]
  },
  {
   "cell_type": "code",
   "execution_count": null,
   "metadata": {},
   "outputs": [],
   "source": [
    "### Download data if not present\n",
    "import dl_project\n",
    "\n",
    "download_path = f\"{project_path}data/zalando-hd-resized\"\n",
    "access_token = \"sl.BztSkyBx6gDRvnrNVmHsyK4Xg5dEjniynbaeJbhlKA-bpHws4vE-9U-_CcmAaGvmYm5mBBDhoy25j17bLqjfz7Z_HxrGSemB054qORye_NYGhEZ76otu-IJEiK3n7c-2a7snkfXRT4h6\"\n",
    "if not os.path.exists(download_path):\n",
    "    dl_project.utils.download_data(download_path, access_token)"
   ]
  },
  {
   "cell_type": "code",
   "execution_count": null,
   "metadata": {},
   "outputs": [],
   "source": [
    "config_name = \"train_dense\"\n",
    "overrides = []\n",
    "cfg = dl_project.utils.get_config(config_name, overrides)\n",
    "dl_project.main(cfg)"
   ]
  }
 ],
 "metadata": {
  "kernelspec": {
   "display_name": "dl_project",
   "language": "python",
   "name": "python3"
  },
  "language_info": {
   "codemirror_mode": {
    "name": "ipython",
    "version": 3
   },
   "file_extension": ".py",
   "mimetype": "text/x-python",
   "name": "python",
   "nbconvert_exporter": "python",
   "pygments_lexer": "ipython3",
   "version": "3.12.2"
  }
 },
 "nbformat": 4,
 "nbformat_minor": 2
}
