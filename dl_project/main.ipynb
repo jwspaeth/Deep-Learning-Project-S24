{
 "cells": [
  {
   "cell_type": "code",
   "execution_count": 1,
   "metadata": {},
   "outputs": [],
   "source": [
    "%load_ext autoreload\n",
    "%autoreload 2\n",
    "\n",
    "import dl_project\n",
    "from omegaconf import OmegaConf\n",
    "import os\n",
    "os.chdir(\"../\")"
   ]
  },
  {
   "cell_type": "code",
   "execution_count": 3,
   "metadata": {},
   "outputs": [
    {
     "name": "stderr",
     "output_type": "stream",
     "text": [
      "GPU available: True (cuda), used: True\n",
      "TPU available: False, using: 0 TPU cores\n",
      "IPU available: False, using: 0 IPUs\n",
      "HPU available: False, using: 0 HPUs\n",
      "Missing logger folder: ./output/train_dense/2024-04-19/13-28-10/lightning_logs\n",
      "LOCAL_RANK: 0 - CUDA_VISIBLE_DEVICES: [0]\n",
      "\n",
      "  | Name  | Type       | Params\n",
      "-------------------------------------\n",
      "0 | model | DenseModel | 325   \n",
      "-------------------------------------\n",
      "325       Trainable params\n",
      "0         Non-trainable params\n",
      "325       Total params\n",
      "0.001     Total estimated model params size (MB)\n"
     ]
    },
    {
     "name": "stdout",
     "output_type": "stream",
     "text": [
      "Source: provider=hydra, path=pkg://hydra.conf\n",
      "Source: provider=main, path=file:///home/jwspaeth/workspaces/Deep-Learning-Project-S24/config\n",
      "Source: provider=schema, path=structured://\n",
      "core:\n",
      "  name: train_dense\n",
      "  output_dir: ./output/${core.name}/${now:%Y-%m-%d}/${now:%H-%M-%S}\n",
      "trainer:\n",
      "  accelerator: gpu\n",
      "  max_epochs: 2\n",
      "  default_root_dir: ${core.output_dir}\n",
      "  limit_train_batches: 10\n",
      "  limit_val_batches: 10\n",
      "  log_every_n_steps: 5\n",
      "data:\n",
      "  shuffle: true\n",
      "  batch_size: 1\n",
      "  workers: 1\n",
      "  load_height: 1024\n",
      "  load_width: 768\n",
      "  semantic_nc: 13\n",
      "  dataset_dir: data/zalando-hd-resized\n",
      "model:\n",
      "  _target_: dl_project.models.DenseModel_Lit\n",
      "  input_size: 10\n",
      "  hidden_layers:\n",
      "  - 15\n",
      "  output_size: 10\n",
      "  lr: 0.001\n",
      "\n",
      "Epoch 1: 100%|██████████| 10/10 [00:01<00:00,  7.65it/s, v_num=0, loss_step=1.230, loss_epoch=1.380]"
     ]
    },
    {
     "name": "stderr",
     "output_type": "stream",
     "text": [
      "/home/jwspaeth/workspaces/Deep-Learning-Project-S24/dl_project/datasets/VITONDataset.py:124: RuntimeWarning: invalid value encountered in divide\n",
      "  pose_data[9] = point + (pose_data[9] - point) / length_b * length_a\n",
      "/home/jwspaeth/workspaces/Deep-Learning-Project-S24/dl_project/datasets/VITONDataset.py:125: RuntimeWarning: invalid value encountered in divide\n",
      "  pose_data[12] = point + (pose_data[12] - point) / length_b * length_a\n"
     ]
    },
    {
     "name": "stdout",
     "output_type": "stream",
     "text": [
      "Epoch 1: 100%|██████████| 10/10 [00:02<00:00,  3.84it/s, v_num=0, loss_step=1.230, loss_epoch=1.270]"
     ]
    },
    {
     "name": "stderr",
     "output_type": "stream",
     "text": [
      "`Trainer.fit` stopped: `max_epochs=2` reached.\n"
     ]
    },
    {
     "name": "stdout",
     "output_type": "stream",
     "text": [
      "Epoch 1: 100%|██████████| 10/10 [00:02<00:00,  3.84it/s, v_num=0, loss_step=1.230, loss_epoch=1.270]\n"
     ]
    }
   ],
   "source": [
    "config_name = \"train_dense\"\n",
    "overrides = []\n",
    "cfg = dl_project.utils.get_config(config_name, overrides)\n",
    "dl_project.main(cfg)"
   ]
  }
 ],
 "metadata": {
  "kernelspec": {
   "display_name": "dl_project",
   "language": "python",
   "name": "python3"
  },
  "language_info": {
   "codemirror_mode": {
    "name": "ipython",
    "version": 3
   },
   "file_extension": ".py",
   "mimetype": "text/x-python",
   "name": "python",
   "nbconvert_exporter": "python",
   "pygments_lexer": "ipython3",
   "version": "3.11.8"
  }
 },
 "nbformat": 4,
 "nbformat_minor": 2
}
